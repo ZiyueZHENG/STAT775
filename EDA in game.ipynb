{
 "cells": [
  {
   "cell_type": "code",
   "execution_count": 109,
   "id": "115ad58b",
   "metadata": {},
   "outputs": [],
   "source": [
    "import pandas as pd\n",
    "import matplotlib.pyplot as plt\n",
    "import itertools\n",
    "from sklearn import metrics as mr"
   ]
  },
  {
   "cell_type": "code",
   "execution_count": 17,
   "id": "953b911e",
   "metadata": {},
   "outputs": [],
   "source": [
    "game=pd.read_csv('games.csv')"
   ]
  },
  {
   "cell_type": "code",
   "execution_count": 18,
   "id": "212f3694",
   "metadata": {},
   "outputs": [
    {
     "data": {
      "text/html": [
       "<div>\n",
       "<style scoped>\n",
       "    .dataframe tbody tr th:only-of-type {\n",
       "        vertical-align: middle;\n",
       "    }\n",
       "\n",
       "    .dataframe tbody tr th {\n",
       "        vertical-align: top;\n",
       "    }\n",
       "\n",
       "    .dataframe thead th {\n",
       "        text-align: right;\n",
       "    }\n",
       "</style>\n",
       "<table border=\"1\" class=\"dataframe\">\n",
       "  <thead>\n",
       "    <tr style=\"text-align: right;\">\n",
       "      <th></th>\n",
       "      <th>gameId</th>\n",
       "      <th>gameDuration</th>\n",
       "      <th>seasonId</th>\n",
       "      <th>winner</th>\n",
       "      <th>firstBlood</th>\n",
       "      <th>firstTower</th>\n",
       "      <th>firstInhibitor</th>\n",
       "      <th>firstBaron</th>\n",
       "      <th>firstDragon</th>\n",
       "      <th>firstRiftHerald</th>\n",
       "      <th>t1_towerKills</th>\n",
       "      <th>t1_inhibitorKills</th>\n",
       "      <th>t1_baronKills</th>\n",
       "      <th>t1_dragonKills</th>\n",
       "      <th>t1_riftHeraldKills</th>\n",
       "      <th>t2_towerKills</th>\n",
       "      <th>t2_inhibitorKills</th>\n",
       "      <th>t2_baronKills</th>\n",
       "      <th>t2_dragonKills</th>\n",
       "      <th>t2_riftHeraldKills</th>\n",
       "    </tr>\n",
       "  </thead>\n",
       "  <tbody>\n",
       "    <tr>\n",
       "      <th>0</th>\n",
       "      <td>3326086514</td>\n",
       "      <td>1949</td>\n",
       "      <td>9</td>\n",
       "      <td>1</td>\n",
       "      <td>2</td>\n",
       "      <td>1</td>\n",
       "      <td>1</td>\n",
       "      <td>1</td>\n",
       "      <td>1</td>\n",
       "      <td>2</td>\n",
       "      <td>11</td>\n",
       "      <td>1</td>\n",
       "      <td>2</td>\n",
       "      <td>3</td>\n",
       "      <td>0</td>\n",
       "      <td>5</td>\n",
       "      <td>0</td>\n",
       "      <td>0</td>\n",
       "      <td>1</td>\n",
       "      <td>1</td>\n",
       "    </tr>\n",
       "    <tr>\n",
       "      <th>1</th>\n",
       "      <td>3229566029</td>\n",
       "      <td>1851</td>\n",
       "      <td>9</td>\n",
       "      <td>1</td>\n",
       "      <td>1</td>\n",
       "      <td>1</td>\n",
       "      <td>1</td>\n",
       "      <td>0</td>\n",
       "      <td>1</td>\n",
       "      <td>1</td>\n",
       "      <td>10</td>\n",
       "      <td>4</td>\n",
       "      <td>0</td>\n",
       "      <td>2</td>\n",
       "      <td>1</td>\n",
       "      <td>2</td>\n",
       "      <td>0</td>\n",
       "      <td>0</td>\n",
       "      <td>0</td>\n",
       "      <td>0</td>\n",
       "    </tr>\n",
       "    <tr>\n",
       "      <th>2</th>\n",
       "      <td>3327363504</td>\n",
       "      <td>1493</td>\n",
       "      <td>9</td>\n",
       "      <td>1</td>\n",
       "      <td>2</td>\n",
       "      <td>1</td>\n",
       "      <td>1</td>\n",
       "      <td>1</td>\n",
       "      <td>2</td>\n",
       "      <td>0</td>\n",
       "      <td>8</td>\n",
       "      <td>1</td>\n",
       "      <td>1</td>\n",
       "      <td>1</td>\n",
       "      <td>0</td>\n",
       "      <td>2</td>\n",
       "      <td>0</td>\n",
       "      <td>0</td>\n",
       "      <td>1</td>\n",
       "      <td>0</td>\n",
       "    </tr>\n",
       "    <tr>\n",
       "      <th>3</th>\n",
       "      <td>3326856598</td>\n",
       "      <td>1758</td>\n",
       "      <td>9</td>\n",
       "      <td>1</td>\n",
       "      <td>1</td>\n",
       "      <td>1</td>\n",
       "      <td>1</td>\n",
       "      <td>1</td>\n",
       "      <td>1</td>\n",
       "      <td>0</td>\n",
       "      <td>9</td>\n",
       "      <td>2</td>\n",
       "      <td>1</td>\n",
       "      <td>2</td>\n",
       "      <td>0</td>\n",
       "      <td>0</td>\n",
       "      <td>0</td>\n",
       "      <td>0</td>\n",
       "      <td>0</td>\n",
       "      <td>0</td>\n",
       "    </tr>\n",
       "    <tr>\n",
       "      <th>4</th>\n",
       "      <td>3330080762</td>\n",
       "      <td>2094</td>\n",
       "      <td>9</td>\n",
       "      <td>1</td>\n",
       "      <td>2</td>\n",
       "      <td>1</td>\n",
       "      <td>1</td>\n",
       "      <td>1</td>\n",
       "      <td>1</td>\n",
       "      <td>0</td>\n",
       "      <td>9</td>\n",
       "      <td>2</td>\n",
       "      <td>1</td>\n",
       "      <td>3</td>\n",
       "      <td>0</td>\n",
       "      <td>3</td>\n",
       "      <td>0</td>\n",
       "      <td>0</td>\n",
       "      <td>1</td>\n",
       "      <td>0</td>\n",
       "    </tr>\n",
       "  </tbody>\n",
       "</table>\n",
       "</div>"
      ],
      "text/plain": [
       "       gameId  gameDuration  seasonId  winner  firstBlood  firstTower  \\\n",
       "0  3326086514          1949         9       1           2           1   \n",
       "1  3229566029          1851         9       1           1           1   \n",
       "2  3327363504          1493         9       1           2           1   \n",
       "3  3326856598          1758         9       1           1           1   \n",
       "4  3330080762          2094         9       1           2           1   \n",
       "\n",
       "   firstInhibitor  firstBaron  firstDragon  firstRiftHerald  t1_towerKills  \\\n",
       "0               1           1            1                2             11   \n",
       "1               1           0            1                1             10   \n",
       "2               1           1            2                0              8   \n",
       "3               1           1            1                0              9   \n",
       "4               1           1            1                0              9   \n",
       "\n",
       "   t1_inhibitorKills  t1_baronKills  t1_dragonKills  t1_riftHeraldKills  \\\n",
       "0                  1              2               3                   0   \n",
       "1                  4              0               2                   1   \n",
       "2                  1              1               1                   0   \n",
       "3                  2              1               2                   0   \n",
       "4                  2              1               3                   0   \n",
       "\n",
       "   t2_towerKills  t2_inhibitorKills  t2_baronKills  t2_dragonKills  \\\n",
       "0              5                  0              0               1   \n",
       "1              2                  0              0               0   \n",
       "2              2                  0              0               1   \n",
       "3              0                  0              0               0   \n",
       "4              3                  0              0               1   \n",
       "\n",
       "   t2_riftHeraldKills  \n",
       "0                   1  \n",
       "1                   0  \n",
       "2                   0  \n",
       "3                   0  \n",
       "4                   0  "
      ]
     },
     "execution_count": 18,
     "metadata": {},
     "output_type": "execute_result"
    }
   ],
   "source": [
    "game.head()"
   ]
  },
  {
   "cell_type": "code",
   "execution_count": 19,
   "id": "3ae793b5",
   "metadata": {},
   "outputs": [
    {
     "data": {
      "text/plain": [
       "Index(['gameId', 'gameDuration', 'seasonId', 'winner', 'firstBlood',\n",
       "       'firstTower', 'firstInhibitor', 'firstBaron', 'firstDragon',\n",
       "       'firstRiftHerald', 't1_towerKills', 't1_inhibitorKills',\n",
       "       't1_baronKills', 't1_dragonKills', 't1_riftHeraldKills',\n",
       "       't2_towerKills', 't2_inhibitorKills', 't2_baronKills', 't2_dragonKills',\n",
       "       't2_riftHeraldKills'],\n",
       "      dtype='object')"
      ]
     },
     "execution_count": 19,
     "metadata": {},
     "output_type": "execute_result"
    }
   ],
   "source": [
    "game.columns"
   ]
  },
  {
   "cell_type": "markdown",
   "id": "06e2768f",
   "metadata": {},
   "source": [
    "## Distribution of Game Duration"
   ]
  },
  {
   "cell_type": "code",
   "execution_count": 25,
   "id": "2424ff8f",
   "metadata": {},
   "outputs": [],
   "source": [
    "time= game['gameDuration']/60 # Transform seconds into minutes"
   ]
  },
  {
   "cell_type": "code",
   "execution_count": 29,
   "id": "38823389",
   "metadata": {},
   "outputs": [
    {
     "data": {
      "text/plain": [
       "(array([6.13707977e-03, 7.18988424e-05, 4.10850528e-04, 7.45693709e-03,\n",
       "        1.94126875e-02, 3.69046487e-02, 4.93688266e-02, 5.14487574e-02,\n",
       "        4.03866069e-02, 2.73421027e-02, 1.42308352e-02, 6.37845445e-03,\n",
       "        3.08651459e-03, 1.14524585e-03, 4.15986160e-04, 1.33526422e-04,\n",
       "        6.16275792e-05, 3.08137896e-05, 0.00000000e+00, 1.02712632e-05]),\n",
       " array([ 3.16666667,  6.94833333, 10.73      , 14.51166667, 18.29333333,\n",
       "        22.075     , 25.85666667, 29.63833333, 33.42      , 37.20166667,\n",
       "        40.98333333, 44.765     , 48.54666667, 52.32833333, 56.11      ,\n",
       "        59.89166667, 63.67333333, 67.455     , 71.23666667, 75.01833333,\n",
       "        78.8       ]),\n",
       " <BarContainer object of 20 artists>)"
      ]
     },
     "execution_count": 29,
     "metadata": {},
     "output_type": "execute_result"
    },
    {
     "data": {
      "image/png": "[encoded data removed]",
      "text/plain": [
       "<Figure size 360x360 with 1 Axes>"
      ]
     },
     "metadata": {
      "needs_background": "light"
     },
     "output_type": "display_data"
    }
   ],
   "source": [
    "plt.figure(figsize=(5,5))\n",
    "plt.hist(time,density=True,bins=20)"
   ]
  },
  {
   "cell_type": "code",
   "execution_count": 30,
   "id": "b87f53f8",
   "metadata": {},
   "outputs": [],
   "source": [
    "re_time=time[time>15]"
   ]
  },
  {
   "cell_type": "code",
   "execution_count": 32,
   "id": "a1e79547",
   "metadata": {},
   "outputs": [
    {
     "data": {
      "text/plain": [
       "(array([8.72930923e-03, 1.82147004e-02, 3.29051843e-02, 4.61397418e-02,\n",
       "        5.40254886e-02, 5.06887305e-02, 4.03160366e-02, 2.82874609e-02,\n",
       "        1.68150116e-02, 8.99799949e-03, 4.24905532e-03, 2.50569291e-03,\n",
       "        9.81031889e-04, 4.12408310e-04, 1.56215269e-04, 6.24861076e-05,\n",
       "        4.99888861e-05, 1.24972215e-05, 0.00000000e+00, 1.24972215e-05]),\n",
       " array([15.01666667, 18.20583333, 21.395     , 24.58416667, 27.77333333,\n",
       "        30.9625    , 34.15166667, 37.34083333, 40.53      , 43.71916667,\n",
       "        46.90833333, 50.0975    , 53.28666667, 56.47583333, 59.665     ,\n",
       "        62.85416667, 66.04333333, 69.2325    , 72.42166667, 75.61083333,\n",
       "        78.8       ]),\n",
       " <BarContainer object of 20 artists>)"
      ]
     },
     "execution_count": 32,
     "metadata": {},
     "output_type": "execute_result"
    },
    {
     "data": {
      "image/png": "[encoded data removed]",
      "text/plain": [
       "<Figure size 360x360 with 1 Axes>"
      ]
     },
     "metadata": {
      "needs_background": "light"
     },
     "output_type": "display_data"
    }
   ],
   "source": [
    "plt.figure(figsize=(5,5))\n",
    "plt.hist(re_time,density=True,bins=20)"
   ]
  },
  {
   "cell_type": "markdown",
   "id": "e9e4df79",
   "metadata": {},
   "source": [
    "nearly a normal distribution."
   ]
  },
  {
   "cell_type": "markdown",
   "id": "b70bd1b2",
   "metadata": {},
   "source": [
    "## Probability of conditional winning"
   ]
  },
  {
   "cell_type": "code",
   "execution_count": 8,
   "id": "9b37244b",
   "metadata": {},
   "outputs": [],
   "source": [
    "first_stage=game.iloc[:,4:10]"
   ]
  },
  {
   "cell_type": "code",
   "execution_count": 9,
   "id": "a324cd4f",
   "metadata": {},
   "outputs": [],
   "source": [
    "def calc_prob(f):\n",
    "    data=first_stage[first_stage[f]!=0]\n",
    "    n=len(data)\n",
    "    same=first_stage[first_stage['winner']==first_stage[f]]\n",
    "    prob=len(same)/n\n",
    "    return prob"
   ]
  },
  {
   "cell_type": "code",
   "execution_count": 10,
   "id": "953cf5bc",
   "metadata": {},
   "outputs": [
    {
     "data": {
      "text/plain": [
       "0.5910866791008148"
      ]
     },
     "execution_count": 10,
     "metadata": {},
     "output_type": "execute_result"
    }
   ],
   "source": [
    "calc_prob('firstBlood')"
   ]
  },
  {
   "cell_type": "code",
   "execution_count": 11,
   "id": "fe6dbeb7",
   "metadata": {},
   "outputs": [
    {
     "data": {
      "text/plain": [
       "0.708216480696939"
      ]
     },
     "execution_count": 11,
     "metadata": {},
     "output_type": "execute_result"
    }
   ],
   "source": [
    "calc_prob('firstTower')"
   ]
  },
  {
   "cell_type": "code",
   "execution_count": 12,
   "id": "d06633e8",
   "metadata": {},
   "outputs": [
    {
     "data": {
      "text/plain": [
       "0.9110231344273897"
      ]
     },
     "execution_count": 12,
     "metadata": {},
     "output_type": "execute_result"
    }
   ],
   "source": [
    "calc_prob('firstInhibitor')"
   ]
  },
  {
   "cell_type": "code",
   "execution_count": 13,
   "id": "abdd442d",
   "metadata": {},
   "outputs": [
    {
     "data": {
      "text/plain": [
       "0.8067686987704918"
      ]
     },
     "execution_count": 13,
     "metadata": {},
     "output_type": "execute_result"
    }
   ],
   "source": [
    "calc_prob('firstBaron')"
   ]
  },
  {
   "cell_type": "code",
   "execution_count": 14,
   "id": "e88a33ea",
   "metadata": {},
   "outputs": [
    {
     "data": {
      "text/plain": [
       "0.6803192564154374"
      ]
     },
     "execution_count": 14,
     "metadata": {},
     "output_type": "execute_result"
    }
   ],
   "source": [
    "calc_prob('firstDragon')"
   ]
  },
  {
   "cell_type": "markdown",
   "id": "cec5db7f",
   "metadata": {},
   "source": [
    "## Histogram of towerKills/inhibitorKills/baronKills/dragonKills/riftHeraldKills"
   ]
  },
  {
   "cell_type": "code",
   "execution_count": 31,
   "id": "18acafe1",
   "metadata": {},
   "outputs": [
    {
     "data": {
      "text/html": [
       "<div>\n",
       "<style scoped>\n",
       "    .dataframe tbody tr th:only-of-type {\n",
       "        vertical-align: middle;\n",
       "    }\n",
       "\n",
       "    .dataframe tbody tr th {\n",
       "        vertical-align: top;\n",
       "    }\n",
       "\n",
       "    .dataframe thead th {\n",
       "        text-align: right;\n",
       "    }\n",
       "</style>\n",
       "<table border=\"1\" class=\"dataframe\">\n",
       "  <thead>\n",
       "    <tr style=\"text-align: right;\">\n",
       "      <th></th>\n",
       "      <th>TowerKills</th>\n",
       "      <th>InhibitorKills</th>\n",
       "      <th>BaronKills</th>\n",
       "      <th>DragonKills</th>\n",
       "      <th>RiftHeraldKills</th>\n",
       "    </tr>\n",
       "  </thead>\n",
       "  <tbody>\n",
       "    <tr>\n",
       "      <th>0</th>\n",
       "      <td>11</td>\n",
       "      <td>1</td>\n",
       "      <td>2</td>\n",
       "      <td>3</td>\n",
       "      <td>0</td>\n",
       "    </tr>\n",
       "    <tr>\n",
       "      <th>1</th>\n",
       "      <td>10</td>\n",
       "      <td>4</td>\n",
       "      <td>0</td>\n",
       "      <td>2</td>\n",
       "      <td>1</td>\n",
       "    </tr>\n",
       "    <tr>\n",
       "      <th>2</th>\n",
       "      <td>8</td>\n",
       "      <td>1</td>\n",
       "      <td>1</td>\n",
       "      <td>1</td>\n",
       "      <td>0</td>\n",
       "    </tr>\n",
       "    <tr>\n",
       "      <th>3</th>\n",
       "      <td>9</td>\n",
       "      <td>2</td>\n",
       "      <td>1</td>\n",
       "      <td>2</td>\n",
       "      <td>0</td>\n",
       "    </tr>\n",
       "    <tr>\n",
       "      <th>4</th>\n",
       "      <td>9</td>\n",
       "      <td>2</td>\n",
       "      <td>1</td>\n",
       "      <td>3</td>\n",
       "      <td>0</td>\n",
       "    </tr>\n",
       "  </tbody>\n",
       "</table>\n",
       "</div>"
      ],
      "text/plain": [
       "   TowerKills  InhibitorKills  BaronKills  DragonKills  RiftHeraldKills\n",
       "0          11               1           2            3                0\n",
       "1          10               4           0            2                1\n",
       "2           8               1           1            1                0\n",
       "3           9               2           1            2                0\n",
       "4           9               2           1            3                0"
      ]
     },
     "execution_count": 31,
     "metadata": {},
     "output_type": "execute_result"
    }
   ],
   "source": [
    "winner_t1=game[game['winner']==1]\n",
    "winner_t1=winner_t1[['t1_towerKills', 't1_inhibitorKills', 't1_baronKills',\n",
    "       't1_dragonKills', 't1_riftHeraldKills']]\n",
    "winner_t1.columns=['TowerKills','InhibitorKills','BaronKills','DragonKills','RiftHeraldKills']\n",
    "winner_t2=game[game['winner']==2]\n",
    "winner_t2=winner_t2[['t2_towerKills', 't2_inhibitorKills', 't2_baronKills', 't2_dragonKills',\n",
    "       't2_riftHeraldKills']]\n",
    "winner_t2.columns=['TowerKills','InhibitorKills','BaronKills','DragonKills','RiftHeraldKills']\n",
    "\n",
    "winner=pd.concat([winner_t1,winner_t2])\n",
    "winner.head()"
   ]
  },
  {
   "cell_type": "code",
   "execution_count": 32,
   "id": "9ffba3b3",
   "metadata": {},
   "outputs": [
    {
     "data": {
      "image/png": "[encoded data removed]",
      "text/plain": [
       "<Figure size 288x1440 with 5 Axes>"
      ]
     },
     "metadata": {
      "needs_background": "light"
     },
     "output_type": "display_data"
    }
   ],
   "source": [
    "plt.figure(figsize=(4,20))\n",
    "for i in range(5):\n",
    "    plt.subplot(511+i)\n",
    "    plt.hist(winner.iloc[:,i])\n",
    "    plt.xlabel(winner.columns[i])\n",
    "    plt.ylabel('number of winner')"
   ]
  },
  {
   "cell_type": "markdown",
   "id": "3122471a",
   "metadata": {},
   "source": [
    "# Model\n",
    "Comparing Navie bayes / AODE /TAN tree"
   ]
  },
  {
   "cell_type": "code",
   "execution_count": 42,
   "id": "fbfdb8f5",
   "metadata": {},
   "outputs": [],
   "source": [
    "# Split train data and test data\n",
    "train = game[0:int(0.9*len(game))]\n",
    "test = game[int(0.9*len(game)):int(len(game))]\n",
    "\n",
    "y_train = train['winner']\n",
    "X_train = train.iloc[:,4:10]\n",
    "\n",
    "y_test = test['winner']\n",
    "X_test = test.iloc[:,4:10]"
   ]
  },
  {
   "cell_type": "code",
   "execution_count": 43,
   "id": "a0183eaf",
   "metadata": {},
   "outputs": [
    {
     "data": {
      "text/html": [
       "<div>\n",
       "<style scoped>\n",
       "    .dataframe tbody tr th:only-of-type {\n",
       "        vertical-align: middle;\n",
       "    }\n",
       "\n",
       "    .dataframe tbody tr th {\n",
       "        vertical-align: top;\n",
       "    }\n",
       "\n",
       "    .dataframe thead th {\n",
       "        text-align: right;\n",
       "    }\n",
       "</style>\n",
       "<table border=\"1\" class=\"dataframe\">\n",
       "  <thead>\n",
       "    <tr style=\"text-align: right;\">\n",
       "      <th></th>\n",
       "      <th>gameId</th>\n",
       "      <th>gameDuration</th>\n",
       "      <th>seasonId</th>\n",
       "      <th>winner</th>\n",
       "      <th>firstBlood</th>\n",
       "      <th>firstTower</th>\n",
       "      <th>firstInhibitor</th>\n",
       "      <th>firstBaron</th>\n",
       "      <th>firstDragon</th>\n",
       "      <th>firstRiftHerald</th>\n",
       "      <th>t1_towerKills</th>\n",
       "      <th>t1_inhibitorKills</th>\n",
       "      <th>t1_baronKills</th>\n",
       "      <th>t1_dragonKills</th>\n",
       "      <th>t1_riftHeraldKills</th>\n",
       "      <th>t2_towerKills</th>\n",
       "      <th>t2_inhibitorKills</th>\n",
       "      <th>t2_baronKills</th>\n",
       "      <th>t2_dragonKills</th>\n",
       "      <th>t2_riftHeraldKills</th>\n",
       "    </tr>\n",
       "  </thead>\n",
       "  <tbody>\n",
       "    <tr>\n",
       "      <th>0</th>\n",
       "      <td>3326086514</td>\n",
       "      <td>1949</td>\n",
       "      <td>9</td>\n",
       "      <td>1</td>\n",
       "      <td>2</td>\n",
       "      <td>1</td>\n",
       "      <td>1</td>\n",
       "      <td>1</td>\n",
       "      <td>1</td>\n",
       "      <td>2</td>\n",
       "      <td>11</td>\n",
       "      <td>1</td>\n",
       "      <td>2</td>\n",
       "      <td>3</td>\n",
       "      <td>0</td>\n",
       "      <td>5</td>\n",
       "      <td>0</td>\n",
       "      <td>0</td>\n",
       "      <td>1</td>\n",
       "      <td>1</td>\n",
       "    </tr>\n",
       "    <tr>\n",
       "      <th>1</th>\n",
       "      <td>3229566029</td>\n",
       "      <td>1851</td>\n",
       "      <td>9</td>\n",
       "      <td>1</td>\n",
       "      <td>1</td>\n",
       "      <td>1</td>\n",
       "      <td>1</td>\n",
       "      <td>0</td>\n",
       "      <td>1</td>\n",
       "      <td>1</td>\n",
       "      <td>10</td>\n",
       "      <td>4</td>\n",
       "      <td>0</td>\n",
       "      <td>2</td>\n",
       "      <td>1</td>\n",
       "      <td>2</td>\n",
       "      <td>0</td>\n",
       "      <td>0</td>\n",
       "      <td>0</td>\n",
       "      <td>0</td>\n",
       "    </tr>\n",
       "    <tr>\n",
       "      <th>2</th>\n",
       "      <td>3327363504</td>\n",
       "      <td>1493</td>\n",
       "      <td>9</td>\n",
       "      <td>1</td>\n",
       "      <td>2</td>\n",
       "      <td>1</td>\n",
       "      <td>1</td>\n",
       "      <td>1</td>\n",
       "      <td>2</td>\n",
       "      <td>0</td>\n",
       "      <td>8</td>\n",
       "      <td>1</td>\n",
       "      <td>1</td>\n",
       "      <td>1</td>\n",
       "      <td>0</td>\n",
       "      <td>2</td>\n",
       "      <td>0</td>\n",
       "      <td>0</td>\n",
       "      <td>1</td>\n",
       "      <td>0</td>\n",
       "    </tr>\n",
       "    <tr>\n",
       "      <th>3</th>\n",
       "      <td>3326856598</td>\n",
       "      <td>1758</td>\n",
       "      <td>9</td>\n",
       "      <td>1</td>\n",
       "      <td>1</td>\n",
       "      <td>1</td>\n",
       "      <td>1</td>\n",
       "      <td>1</td>\n",
       "      <td>1</td>\n",
       "      <td>0</td>\n",
       "      <td>9</td>\n",
       "      <td>2</td>\n",
       "      <td>1</td>\n",
       "      <td>2</td>\n",
       "      <td>0</td>\n",
       "      <td>0</td>\n",
       "      <td>0</td>\n",
       "      <td>0</td>\n",
       "      <td>0</td>\n",
       "      <td>0</td>\n",
       "    </tr>\n",
       "    <tr>\n",
       "      <th>4</th>\n",
       "      <td>3330080762</td>\n",
       "      <td>2094</td>\n",
       "      <td>9</td>\n",
       "      <td>1</td>\n",
       "      <td>2</td>\n",
       "      <td>1</td>\n",
       "      <td>1</td>\n",
       "      <td>1</td>\n",
       "      <td>1</td>\n",
       "      <td>0</td>\n",
       "      <td>9</td>\n",
       "      <td>2</td>\n",
       "      <td>1</td>\n",
       "      <td>3</td>\n",
       "      <td>0</td>\n",
       "      <td>3</td>\n",
       "      <td>0</td>\n",
       "      <td>0</td>\n",
       "      <td>1</td>\n",
       "      <td>0</td>\n",
       "    </tr>\n",
       "  </tbody>\n",
       "</table>\n",
       "</div>"
      ],
      "text/plain": [
       "       gameId  gameDuration  seasonId  winner  firstBlood  firstTower  \\\n",
       "0  3326086514          1949         9       1           2           1   \n",
       "1  3229566029          1851         9       1           1           1   \n",
       "2  3327363504          1493         9       1           2           1   \n",
       "3  3326856598          1758         9       1           1           1   \n",
       "4  3330080762          2094         9       1           2           1   \n",
       "\n",
       "   firstInhibitor  firstBaron  firstDragon  firstRiftHerald  t1_towerKills  \\\n",
       "0               1           1            1                2             11   \n",
       "1               1           0            1                1             10   \n",
       "2               1           1            2                0              8   \n",
       "3               1           1            1                0              9   \n",
       "4               1           1            1                0              9   \n",
       "\n",
       "   t1_inhibitorKills  t1_baronKills  t1_dragonKills  t1_riftHeraldKills  \\\n",
       "0                  1              2               3                   0   \n",
       "1                  4              0               2                   1   \n",
       "2                  1              1               1                   0   \n",
       "3                  2              1               2                   0   \n",
       "4                  2              1               3                   0   \n",
       "\n",
       "   t2_towerKills  t2_inhibitorKills  t2_baronKills  t2_dragonKills  \\\n",
       "0              5                  0              0               1   \n",
       "1              2                  0              0               0   \n",
       "2              2                  0              0               1   \n",
       "3              0                  0              0               0   \n",
       "4              3                  0              0               1   \n",
       "\n",
       "   t2_riftHeraldKills  \n",
       "0                   1  \n",
       "1                   0  \n",
       "2                   0  \n",
       "3                   0  \n",
       "4                   0  "
      ]
     },
     "execution_count": 43,
     "metadata": {},
     "output_type": "execute_result"
    }
   ],
   "source": [
    "train.head()"
   ]
  },
  {
   "cell_type": "code",
   "execution_count": 221,
   "id": "2a5ddd45",
   "metadata": {},
   "outputs": [
    {
     "data": {
      "text/plain": [
       "0.6766362400466109"
      ]
     },
     "execution_count": 221,
     "metadata": {},
     "output_type": "execute_result"
    }
   ],
   "source": [
    "# Naive Bayes\n",
    "from sklearn.naive_bayes import MultinomialNB\n",
    "\n",
    "clf = MultinomialNB(alpha=2.0)\n",
    "clf.fit(X_train,y_train)\n",
    "\n",
    "# test accurancy\n",
    "clf.predict(X_test)\n",
    "sum(clf.predict(X_test)==y_test)/len(y_test)"
   ]
  },
  {
   "cell_type": "code",
   "execution_count": 219,
   "id": "cf59bf58",
   "metadata": {},
   "outputs": [
    {
     "name": "stdout",
     "output_type": "stream",
     "text": [
      "P(y,pa)训练完毕!\n",
      "P(x|y,pa)训练完毕!\n",
      "错误533个，准确率为：0.8964847543212274\n"
     ]
    }
   ],
   "source": [
    "# Average one dependent estimate\n",
    "%run AODE.ipynb\n",
    "Bs = Aode()\n",
    "Bs.AodeTrain(X_train, y_train,[0,0,0,0,0,0])\n",
    "Proba = Bs.aodepredict(X_test)\n",
    "logProba = Bs.aodepredictLog(X_test)\n",
    "yPredict = np.argmax(logProba, axis=1)+1 #because prediction is 0,1 and our label is 1,2\n",
    "print(f\"错误{sum(yPredict!=y_test)}个，准确率为：{sum(yPredict==y_test)/y_test.size}\")"
   ]
  },
  {
   "cell_type": "code",
   "execution_count": 214,
   "id": "7cabb35c",
   "metadata": {},
   "outputs": [],
   "source": []
  },
  {
   "cell_type": "code",
   "execution_count": null,
   "id": "f9860c6a",
   "metadata": {},
   "outputs": [],
   "source": [
    "# TAN tree\n",
    "#regular_state = False\n",
    "dataset = train.iloc[:,3:10]\n",
    "label_names = 'winner'\n",
    "features_info\n",
    "target\n",
    "#TANTree = TANMatrix(features_info)\n",
    "\n",
    "target = dict()\n",
    "for i in list(dataset.columns[1:]):\n",
    "    target[i] = dataset[i][0]\n",
    "\n",
    "features_info = dict()\n",
    "for i in list(dataset.columns[1:]):\n",
    "    features_info[i] = 'dispersed'\n"
   ]
  },
  {
   "cell_type": "code",
   "execution_count": 220,
   "id": "97a1a428",
   "metadata": {},
   "outputs": [
    {
     "name": "stdout",
     "output_type": "stream",
     "text": [
      "====================\n",
      "firstBaron === 0 ===> firstBaron\n",
      "====================\n",
      "====================\n",
      "firstTower === 0.11108136536802231 ===> firstBlood\n",
      "====================\n",
      "====================\n",
      "firstTower === 0.2068702320086629 ===> firstDragon\n",
      "====================\n",
      "====================\n",
      "firstBaron === 0.2240500315403075 ===> firstInhibitor\n",
      "====================\n",
      "====================\n",
      "firstTower === 0.08458244937986042 ===> firstRiftHerald\n",
      "====================\n",
      "====================\n",
      "firstInhibitor === 0.14587854752328416 ===> firstTower\n",
      "====================\n"
     ]
    }
   ],
   "source": [
    "%run TAN.ipynb\n",
    "TANTree = TANMatrix(features_info)\n",
    "dataset_nums = dataset.shape[0]\n",
    "\n",
    "TANObject = TAN(dataset, features_info, label_names,offset=0.5)\n",
    "\n",
    "condition_dataset = TANObject.getConditionData(dataset)\n",
    "\n",
    "TANTree = calculateConditionalMutualInfo(condition_dataset, list(dataset.columns[1:]), TANTree)\n",
    "\n",
    "TANTree.MaxSpanTree_prim()\n",
    "\n",
    "#####\n",
    "\n",
    "for children, parent in TANTree.spanningTree.items():\n",
    "    print('====================')\n",
    "    print(parent, '===', TANTree._TANMatrix[parent][children], '===>', children)\n",
    "    print('====================')\n",
    "\n",
    "# TANObject.setParentInfo((parent, target[parent]))\n",
    "# TANObject.getPriorProb(dataset_nums, regular=regular_state)\n",
    "# TANObject.getEvidenceProb(dataset_nums)\n",
    "\n",
    "# #subDataset = TANObject.getConditionData(dataset,)\n",
    "\n",
    "# for iclass, subdata in condition_dataset.items():\n",
    "#     TANObject.getClassConditionalProb(subdata, target, iclass, regular=regular_state)\n",
    "\n",
    "# predict_class = TANObject.getPredictClass(target)\n",
    "# print('predict label is :', predict_class)\n",
    "# print('==============prior prob===================')\n",
    "# print(TANObject.prior_prob)\n",
    "# print('==============ClassConditionalProb===================')\n",
    "# print(TANObject.class_conditional_prob)\n",
    "\n",
    "# nb = NativeBayesModel(dataset, features_info, label_names)\n",
    "\n",
    "\n",
    "# nb.getPriorProb(dataset_nums, regular=regular_state)\n",
    "\n",
    "# nb.getEvidenceProb(dataset_nums)\n",
    "\n",
    "# subDataset = nb.getConditionData(dataset)\n",
    "# for iclass, subdata in subDataset.items():\n",
    "#     nb.getClassConditionalProb(subdata, target, iclass, regular=regular_state)\n",
    "\n",
    "# predict_class = nb.getPredictClass(target)\n",
    "# print('predict label is :', predict_class)\n",
    "# print('==============prior prob===================')\n",
    "# print(nb.prior_prob)\n",
    "# print('==============ClassConditionalProb===================')\n",
    "# print(nb.class_conditional_prob)"
   ]
  }
 ],
 "metadata": {
  "kernelspec": {
   "display_name": "Python 3 (ipykernel)",
   "language": "python",
   "name": "python3"
  },
  "language_info": {
   "codemirror_mode": {
    "name": "ipython",
    "version": 3
   },
   "file_extension": ".py",
   "mimetype": "text/x-python",
   "name": "python",
   "nbconvert_exporter": "python",
   "pygments_lexer": "ipython3",
   "version": "3.9.7"
  }
 },
 "nbformat": 4,
 "nbformat_minor": 5
}
