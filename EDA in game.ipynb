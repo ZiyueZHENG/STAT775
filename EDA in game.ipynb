{
 "cells": [
  {
   "cell_type": "code",
   "execution_count": 1,
   "id": "115ad58b",
   "metadata": {},
   "outputs": [],
   "source": [
    "import pandas as pd\n",
    "import numpy as np\n",
    "import matplotlib.pyplot as plt\n",
    "import sklearn"
   ]
  },
  {
   "cell_type": "code",
   "execution_count": 2,
   "id": "953b911e",
   "metadata": {},
   "outputs": [],
   "source": [
    "game=pd.read_csv('games.csv')"
   ]
  },
  {
   "cell_type": "code",
   "execution_count": 3,
   "id": "212f3694",
   "metadata": {},
   "outputs": [
    {
     "data": {
      "text/html": [
       "<div>\n",
       "<style scoped>\n",
       "    .dataframe tbody tr th:only-of-type {\n",
       "        vertical-align: middle;\n",
       "    }\n",
       "\n",
       "    .dataframe tbody tr th {\n",
       "        vertical-align: top;\n",
       "    }\n",
       "\n",
       "    .dataframe thead th {\n",
       "        text-align: right;\n",
       "    }\n",
       "</style>\n",
       "<table border=\"1\" class=\"dataframe\">\n",
       "  <thead>\n",
       "    <tr style=\"text-align: right;\">\n",
       "      <th></th>\n",
       "      <th>gameId</th>\n",
       "      <th>creationTime</th>\n",
       "      <th>gameDuration</th>\n",
       "      <th>seasonId</th>\n",
       "      <th>winner</th>\n",
       "      <th>firstBlood</th>\n",
       "      <th>firstTower</th>\n",
       "      <th>firstInhibitor</th>\n",
       "      <th>firstBaron</th>\n",
       "      <th>firstDragon</th>\n",
       "      <th>...</th>\n",
       "      <th>t2_towerKills</th>\n",
       "      <th>t2_inhibitorKills</th>\n",
       "      <th>t2_baronKills</th>\n",
       "      <th>t2_dragonKills</th>\n",
       "      <th>t2_riftHeraldKills</th>\n",
       "      <th>t2_ban1</th>\n",
       "      <th>t2_ban2</th>\n",
       "      <th>t2_ban3</th>\n",
       "      <th>t2_ban4</th>\n",
       "      <th>t2_ban5</th>\n",
       "    </tr>\n",
       "  </thead>\n",
       "  <tbody>\n",
       "    <tr>\n",
       "      <th>0</th>\n",
       "      <td>3326086514</td>\n",
       "      <td>1504279457970</td>\n",
       "      <td>1949</td>\n",
       "      <td>9</td>\n",
       "      <td>1</td>\n",
       "      <td>2</td>\n",
       "      <td>1</td>\n",
       "      <td>1</td>\n",
       "      <td>1</td>\n",
       "      <td>1</td>\n",
       "      <td>...</td>\n",
       "      <td>5</td>\n",
       "      <td>0</td>\n",
       "      <td>0</td>\n",
       "      <td>1</td>\n",
       "      <td>1</td>\n",
       "      <td>114</td>\n",
       "      <td>67</td>\n",
       "      <td>43</td>\n",
       "      <td>16</td>\n",
       "      <td>51</td>\n",
       "    </tr>\n",
       "    <tr>\n",
       "      <th>1</th>\n",
       "      <td>3229566029</td>\n",
       "      <td>1497848803862</td>\n",
       "      <td>1851</td>\n",
       "      <td>9</td>\n",
       "      <td>1</td>\n",
       "      <td>1</td>\n",
       "      <td>1</td>\n",
       "      <td>1</td>\n",
       "      <td>0</td>\n",
       "      <td>1</td>\n",
       "      <td>...</td>\n",
       "      <td>2</td>\n",
       "      <td>0</td>\n",
       "      <td>0</td>\n",
       "      <td>0</td>\n",
       "      <td>0</td>\n",
       "      <td>11</td>\n",
       "      <td>67</td>\n",
       "      <td>238</td>\n",
       "      <td>51</td>\n",
       "      <td>420</td>\n",
       "    </tr>\n",
       "    <tr>\n",
       "      <th>2</th>\n",
       "      <td>3327363504</td>\n",
       "      <td>1504360103310</td>\n",
       "      <td>1493</td>\n",
       "      <td>9</td>\n",
       "      <td>1</td>\n",
       "      <td>2</td>\n",
       "      <td>1</td>\n",
       "      <td>1</td>\n",
       "      <td>1</td>\n",
       "      <td>2</td>\n",
       "      <td>...</td>\n",
       "      <td>2</td>\n",
       "      <td>0</td>\n",
       "      <td>0</td>\n",
       "      <td>1</td>\n",
       "      <td>0</td>\n",
       "      <td>157</td>\n",
       "      <td>238</td>\n",
       "      <td>121</td>\n",
       "      <td>57</td>\n",
       "      <td>28</td>\n",
       "    </tr>\n",
       "    <tr>\n",
       "      <th>3</th>\n",
       "      <td>3326856598</td>\n",
       "      <td>1504348503996</td>\n",
       "      <td>1758</td>\n",
       "      <td>9</td>\n",
       "      <td>1</td>\n",
       "      <td>1</td>\n",
       "      <td>1</td>\n",
       "      <td>1</td>\n",
       "      <td>1</td>\n",
       "      <td>1</td>\n",
       "      <td>...</td>\n",
       "      <td>0</td>\n",
       "      <td>0</td>\n",
       "      <td>0</td>\n",
       "      <td>0</td>\n",
       "      <td>0</td>\n",
       "      <td>164</td>\n",
       "      <td>18</td>\n",
       "      <td>141</td>\n",
       "      <td>40</td>\n",
       "      <td>51</td>\n",
       "    </tr>\n",
       "    <tr>\n",
       "      <th>4</th>\n",
       "      <td>3330080762</td>\n",
       "      <td>1504554410899</td>\n",
       "      <td>2094</td>\n",
       "      <td>9</td>\n",
       "      <td>1</td>\n",
       "      <td>2</td>\n",
       "      <td>1</td>\n",
       "      <td>1</td>\n",
       "      <td>1</td>\n",
       "      <td>1</td>\n",
       "      <td>...</td>\n",
       "      <td>3</td>\n",
       "      <td>0</td>\n",
       "      <td>0</td>\n",
       "      <td>1</td>\n",
       "      <td>0</td>\n",
       "      <td>86</td>\n",
       "      <td>11</td>\n",
       "      <td>201</td>\n",
       "      <td>122</td>\n",
       "      <td>18</td>\n",
       "    </tr>\n",
       "  </tbody>\n",
       "</table>\n",
       "<p>5 rows × 61 columns</p>\n",
       "</div>"
      ],
      "text/plain": [
       "       gameId   creationTime  gameDuration  seasonId  winner  firstBlood  \\\n",
       "0  3326086514  1504279457970          1949         9       1           2   \n",
       "1  3229566029  1497848803862          1851         9       1           1   \n",
       "2  3327363504  1504360103310          1493         9       1           2   \n",
       "3  3326856598  1504348503996          1758         9       1           1   \n",
       "4  3330080762  1504554410899          2094         9       1           2   \n",
       "\n",
       "   firstTower  firstInhibitor  firstBaron  firstDragon  ...  t2_towerKills  \\\n",
       "0           1               1           1            1  ...              5   \n",
       "1           1               1           0            1  ...              2   \n",
       "2           1               1           1            2  ...              2   \n",
       "3           1               1           1            1  ...              0   \n",
       "4           1               1           1            1  ...              3   \n",
       "\n",
       "   t2_inhibitorKills  t2_baronKills  t2_dragonKills  t2_riftHeraldKills  \\\n",
       "0                  0              0               1                   1   \n",
       "1                  0              0               0                   0   \n",
       "2                  0              0               1                   0   \n",
       "3                  0              0               0                   0   \n",
       "4                  0              0               1                   0   \n",
       "\n",
       "   t2_ban1  t2_ban2  t2_ban3  t2_ban4  t2_ban5  \n",
       "0      114       67       43       16       51  \n",
       "1       11       67      238       51      420  \n",
       "2      157      238      121       57       28  \n",
       "3      164       18      141       40       51  \n",
       "4       86       11      201      122       18  \n",
       "\n",
       "[5 rows x 61 columns]"
      ]
     },
     "execution_count": 3,
     "metadata": {},
     "output_type": "execute_result"
    }
   ],
   "source": [
    "game.head()"
   ]
  },
  {
   "cell_type": "code",
   "execution_count": 4,
   "id": "3ae793b5",
   "metadata": {},
   "outputs": [
    {
     "data": {
      "text/plain": [
       "Index(['gameId', 'creationTime', 'gameDuration', 'seasonId', 'winner',\n",
       "       'firstBlood', 'firstTower', 'firstInhibitor', 'firstBaron',\n",
       "       'firstDragon', 'firstRiftHerald', 't1_champ1id', 't1_champ1_sum1',\n",
       "       't1_champ1_sum2', 't1_champ2id', 't1_champ2_sum1', 't1_champ2_sum2',\n",
       "       't1_champ3id', 't1_champ3_sum1', 't1_champ3_sum2', 't1_champ4id',\n",
       "       't1_champ4_sum1', 't1_champ4_sum2', 't1_champ5id', 't1_champ5_sum1',\n",
       "       't1_champ5_sum2', 't1_towerKills', 't1_inhibitorKills', 't1_baronKills',\n",
       "       't1_dragonKills', 't1_riftHeraldKills', 't1_ban1', 't1_ban2', 't1_ban3',\n",
       "       't1_ban4', 't1_ban5', 't2_champ1id', 't2_champ1_sum1', 't2_champ1_sum2',\n",
       "       't2_champ2id', 't2_champ2_sum1', 't2_champ2_sum2', 't2_champ3id',\n",
       "       't2_champ3_sum1', 't2_champ3_sum2', 't2_champ4id', 't2_champ4_sum1',\n",
       "       't2_champ4_sum2', 't2_champ5id', 't2_champ5_sum1', 't2_champ5_sum2',\n",
       "       't2_towerKills', 't2_inhibitorKills', 't2_baronKills', 't2_dragonKills',\n",
       "       't2_riftHeraldKills', 't2_ban1', 't2_ban2', 't2_ban3', 't2_ban4',\n",
       "       't2_ban5'],\n",
       "      dtype='object')"
      ]
     },
     "execution_count": 4,
     "metadata": {},
     "output_type": "execute_result"
    }
   ],
   "source": [
    "game.columns"
   ]
  },
  {
   "cell_type": "code",
   "execution_count": 10,
   "id": "f75f4405",
   "metadata": {},
   "outputs": [
    {
     "data": {
      "text/plain": [
       "51490"
      ]
     },
     "execution_count": 10,
     "metadata": {},
     "output_type": "execute_result"
    }
   ],
   "source": [
    "len(game)"
   ]
  },
  {
   "cell_type": "markdown",
   "id": "06e2768f",
   "metadata": {},
   "source": [
    "## Distribution of Game Duration"
   ]
  },
  {
   "cell_type": "code",
   "execution_count": 6,
   "id": "2424ff8f",
   "metadata": {},
   "outputs": [],
   "source": [
    "time=game['gameDuration']"
   ]
  },
  {
   "cell_type": "code",
   "execution_count": 9,
   "id": "38823389",
   "metadata": {},
   "outputs": [
    {
     "data": {
      "image/png": "[encoded data removed]",
      "text/plain": [
       "<Figure size 360x360 with 1 Axes>"
      ]
     },
     "metadata": {
      "needs_background": "light"
     },
     "output_type": "display_data"
    }
   ],
   "source": [
    "plt.figure(figsize=(5,5))\n",
    "plt.hist(time,bins=20)\n",
    "plt.xlabel('Time duration (Second)')\n",
    "plt.title(\"The histogram of time duration\")\n",
    "plt.savefig(\"timeduration.png\")"
   ]
  },
  {
   "cell_type": "code",
   "execution_count": 6,
   "id": "b87f53f8",
   "metadata": {},
   "outputs": [],
   "source": [
    "re_time=time[time>900]"
   ]
  },
  {
   "cell_type": "code",
   "execution_count": 7,
   "id": "a1e79547",
   "metadata": {},
   "outputs": [
    {
     "data": {
      "text/plain": [
       "(array([1.397e+03, 2.915e+03, 5.266e+03, 7.384e+03, 8.646e+03, 8.112e+03,\n",
       "        6.452e+03, 4.527e+03, 2.691e+03, 1.440e+03, 6.800e+02, 4.010e+02,\n",
       "        1.570e+02, 6.600e+01, 2.500e+01, 1.000e+01, 8.000e+00, 2.000e+00,\n",
       "        0.000e+00, 2.000e+00]),\n",
       " array([ 901.  , 1092.35, 1283.7 , 1475.05, 1666.4 , 1857.75, 2049.1 ,\n",
       "        2240.45, 2431.8 , 2623.15, 2814.5 , 3005.85, 3197.2 , 3388.55,\n",
       "        3579.9 , 3771.25, 3962.6 , 4153.95, 4345.3 , 4536.65, 4728.  ]),\n",
       " <BarContainer object of 20 artists>)"
      ]
     },
     "execution_count": 7,
     "metadata": {},
     "output_type": "execute_result"
    },
    {
     "data": {
      "image/png": "[encoded data removed]",
      "text/plain": [
       "<Figure size 360x360 with 1 Axes>"
      ]
     },
     "metadata": {
      "needs_background": "light"
     },
     "output_type": "display_data"
    }
   ],
   "source": [
    "plt.figure(figsize=(5,5))\n",
    "plt.hist(re_time,bins=20)"
   ]
  },
  {
   "cell_type": "markdown",
   "id": "e9e4df79",
   "metadata": {},
   "source": [
    "nearly a normal distribution."
   ]
  },
  {
   "cell_type": "markdown",
   "id": "b70bd1b2",
   "metadata": {},
   "source": [
    "## Probability of conditional winning"
   ]
  },
  {
   "cell_type": "code",
   "execution_count": 8,
   "id": "9b37244b",
   "metadata": {},
   "outputs": [],
   "source": [
    "first_stage=game.iloc[:,4:10]"
   ]
  },
  {
   "cell_type": "code",
   "execution_count": 9,
   "id": "a324cd4f",
   "metadata": {},
   "outputs": [],
   "source": [
    "def calc_prob(f):\n",
    "    data=first_stage[first_stage[f]!=0]\n",
    "    n=len(data)\n",
    "    same=first_stage[first_stage['winner']==first_stage[f]]\n",
    "    prob=len(same)/n\n",
    "    return prob"
   ]
  },
  {
   "cell_type": "code",
   "execution_count": 10,
   "id": "953cf5bc",
   "metadata": {},
   "outputs": [
    {
     "data": {
      "text/plain": [
       "0.5910866791008148"
      ]
     },
     "execution_count": 10,
     "metadata": {},
     "output_type": "execute_result"
    }
   ],
   "source": [
    "calc_prob('firstBlood')"
   ]
  },
  {
   "cell_type": "code",
   "execution_count": 11,
   "id": "fe6dbeb7",
   "metadata": {},
   "outputs": [
    {
     "data": {
      "text/plain": [
       "0.708216480696939"
      ]
     },
     "execution_count": 11,
     "metadata": {},
     "output_type": "execute_result"
    }
   ],
   "source": [
    "calc_prob('firstTower')  "
   ]
  },
  {
   "cell_type": "code",
   "execution_count": 12,
   "id": "d06633e8",
   "metadata": {},
   "outputs": [
    {
     "data": {
      "text/plain": [
       "0.9110231344273897"
      ]
     },
     "execution_count": 12,
     "metadata": {},
     "output_type": "execute_result"
    }
   ],
   "source": [
    "calc_prob('firstInhibitor')"
   ]
  },
  {
   "cell_type": "code",
   "execution_count": 13,
   "id": "abdd442d",
   "metadata": {},
   "outputs": [
    {
     "data": {
      "text/plain": [
       "0.8067686987704918"
      ]
     },
     "execution_count": 13,
     "metadata": {},
     "output_type": "execute_result"
    }
   ],
   "source": [
    "calc_prob('firstBaron')"
   ]
  },
  {
   "cell_type": "code",
   "execution_count": 14,
   "id": "e88a33ea",
   "metadata": {},
   "outputs": [
    {
     "data": {
      "text/plain": [
       "0.6803192564154374"
      ]
     },
     "execution_count": 14,
     "metadata": {},
     "output_type": "execute_result"
    }
   ],
   "source": [
    "calc_prob('firstDragon')"
   ]
  },
  {
   "cell_type": "markdown",
   "id": "cec5db7f",
   "metadata": {},
   "source": [
    "## Histogram of towerKills/inhibitorKills/baronKills/dragonKills/riftHeraldKills"
   ]
  },
  {
   "cell_type": "code",
   "execution_count": 31,
   "id": "18acafe1",
   "metadata": {},
   "outputs": [
    {
     "data": {
      "text/html": [
       "<div>\n",
       "<style scoped>\n",
       "    .dataframe tbody tr th:only-of-type {\n",
       "        vertical-align: middle;\n",
       "    }\n",
       "\n",
       "    .dataframe tbody tr th {\n",
       "        vertical-align: top;\n",
       "    }\n",
       "\n",
       "    .dataframe thead th {\n",
       "        text-align: right;\n",
       "    }\n",
       "</style>\n",
       "<table border=\"1\" class=\"dataframe\">\n",
       "  <thead>\n",
       "    <tr style=\"text-align: right;\">\n",
       "      <th></th>\n",
       "      <th>TowerKills</th>\n",
       "      <th>InhibitorKills</th>\n",
       "      <th>BaronKills</th>\n",
       "      <th>DragonKills</th>\n",
       "      <th>RiftHeraldKills</th>\n",
       "    </tr>\n",
       "  </thead>\n",
       "  <tbody>\n",
       "    <tr>\n",
       "      <th>0</th>\n",
       "      <td>11</td>\n",
       "      <td>1</td>\n",
       "      <td>2</td>\n",
       "      <td>3</td>\n",
       "      <td>0</td>\n",
       "    </tr>\n",
       "    <tr>\n",
       "      <th>1</th>\n",
       "      <td>10</td>\n",
       "      <td>4</td>\n",
       "      <td>0</td>\n",
       "      <td>2</td>\n",
       "      <td>1</td>\n",
       "    </tr>\n",
       "    <tr>\n",
       "      <th>2</th>\n",
       "      <td>8</td>\n",
       "      <td>1</td>\n",
       "      <td>1</td>\n",
       "      <td>1</td>\n",
       "      <td>0</td>\n",
       "    </tr>\n",
       "    <tr>\n",
       "      <th>3</th>\n",
       "      <td>9</td>\n",
       "      <td>2</td>\n",
       "      <td>1</td>\n",
       "      <td>2</td>\n",
       "      <td>0</td>\n",
       "    </tr>\n",
       "    <tr>\n",
       "      <th>4</th>\n",
       "      <td>9</td>\n",
       "      <td>2</td>\n",
       "      <td>1</td>\n",
       "      <td>3</td>\n",
       "      <td>0</td>\n",
       "    </tr>\n",
       "  </tbody>\n",
       "</table>\n",
       "</div>"
      ],
      "text/plain": [
       "   TowerKills  InhibitorKills  BaronKills  DragonKills  RiftHeraldKills\n",
       "0          11               1           2            3                0\n",
       "1          10               4           0            2                1\n",
       "2           8               1           1            1                0\n",
       "3           9               2           1            2                0\n",
       "4           9               2           1            3                0"
      ]
     },
     "execution_count": 31,
     "metadata": {},
     "output_type": "execute_result"
    }
   ],
   "source": [
    "winner_t1=game[game['winner']==1]\n",
    "winner_t1=winner_t1[['t1_towerKills', 't1_inhibitorKills', 't1_baronKills',\n",
    "       't1_dragonKills', 't1_riftHeraldKills']]\n",
    "winner_t1.columns=['TowerKills','InhibitorKills','BaronKills','DragonKills','RiftHeraldKills']\n",
    "winner_t2=game[game['winner']==2]\n",
    "winner_t2=winner_t2[['t2_towerKills', 't2_inhibitorKills', 't2_baronKills', 't2_dragonKills',\n",
    "       't2_riftHeraldKills']]\n",
    "winner_t2.columns=['TowerKills','InhibitorKills','BaronKills','DragonKills','RiftHeraldKills']\n",
    "\n",
    "winner=pd.concat([winner_t1,winner_t2])\n",
    "winner.head()"
   ]
  },
  {
   "cell_type": "code",
   "execution_count": 32,
   "id": "9ffba3b3",
   "metadata": {},
   "outputs": [
    {
     "data": {
      "image/png": "[encoded data removed]",
      "text/plain": [
       "<Figure size 288x1440 with 5 Axes>"
      ]
     },
     "metadata": {
      "needs_background": "light"
     },
     "output_type": "display_data"
    }
   ],
   "source": [
    "plt.figure(figsize=(4,20))\n",
    "for i in range(5):\n",
    "    plt.subplot(511+i)\n",
    "    plt.hist(winner.iloc[:,i])\n",
    "    plt.xlabel(winner.columns[i])\n",
    "    plt.ylabel('number of winner')"
   ]
  },
  {
   "cell_type": "markdown",
   "id": "7dd35e27",
   "metadata": {},
   "source": [
    "## Logistic Regression of winning"
   ]
  },
  {
   "cell_type": "code",
   "execution_count": 4,
   "id": "f0add930",
   "metadata": {},
   "outputs": [],
   "source": [
    "game=game[game['gameDuration']>=900]"
   ]
  },
  {
   "cell_type": "code",
   "execution_count": 5,
   "id": "f5e15c3b",
   "metadata": {},
   "outputs": [
    {
     "data": {
      "text/html": [
       "<div>\n",
       "<style scoped>\n",
       "    .dataframe tbody tr th:only-of-type {\n",
       "        vertical-align: middle;\n",
       "    }\n",
       "\n",
       "    .dataframe tbody tr th {\n",
       "        vertical-align: top;\n",
       "    }\n",
       "\n",
       "    .dataframe thead th {\n",
       "        text-align: right;\n",
       "    }\n",
       "</style>\n",
       "<table border=\"1\" class=\"dataframe\">\n",
       "  <thead>\n",
       "    <tr style=\"text-align: right;\">\n",
       "      <th></th>\n",
       "      <th>TowerKills</th>\n",
       "      <th>InhibitorKills</th>\n",
       "      <th>BaronKills</th>\n",
       "      <th>DragonKills</th>\n",
       "      <th>RiftHeraldKills</th>\n",
       "      <th>winning</th>\n",
       "    </tr>\n",
       "  </thead>\n",
       "  <tbody>\n",
       "    <tr>\n",
       "      <th>0</th>\n",
       "      <td>11</td>\n",
       "      <td>1</td>\n",
       "      <td>2</td>\n",
       "      <td>3</td>\n",
       "      <td>0</td>\n",
       "      <td>1</td>\n",
       "    </tr>\n",
       "    <tr>\n",
       "      <th>1</th>\n",
       "      <td>10</td>\n",
       "      <td>4</td>\n",
       "      <td>0</td>\n",
       "      <td>2</td>\n",
       "      <td>1</td>\n",
       "      <td>1</td>\n",
       "    </tr>\n",
       "    <tr>\n",
       "      <th>2</th>\n",
       "      <td>8</td>\n",
       "      <td>1</td>\n",
       "      <td>1</td>\n",
       "      <td>1</td>\n",
       "      <td>0</td>\n",
       "      <td>1</td>\n",
       "    </tr>\n",
       "    <tr>\n",
       "      <th>3</th>\n",
       "      <td>9</td>\n",
       "      <td>2</td>\n",
       "      <td>1</td>\n",
       "      <td>2</td>\n",
       "      <td>0</td>\n",
       "      <td>1</td>\n",
       "    </tr>\n",
       "    <tr>\n",
       "      <th>4</th>\n",
       "      <td>9</td>\n",
       "      <td>2</td>\n",
       "      <td>1</td>\n",
       "      <td>3</td>\n",
       "      <td>0</td>\n",
       "      <td>1</td>\n",
       "    </tr>\n",
       "  </tbody>\n",
       "</table>\n",
       "</div>"
      ],
      "text/plain": [
       "   TowerKills  InhibitorKills  BaronKills  DragonKills  RiftHeraldKills  \\\n",
       "0          11               1           2            3                0   \n",
       "1          10               4           0            2                1   \n",
       "2           8               1           1            1                0   \n",
       "3           9               2           1            2                0   \n",
       "4           9               2           1            3                0   \n",
       "\n",
       "   winning  \n",
       "0        1  \n",
       "1        1  \n",
       "2        1  \n",
       "3        1  \n",
       "4        1  "
      ]
     },
     "execution_count": 5,
     "metadata": {},
     "output_type": "execute_result"
    }
   ],
   "source": [
    "winner_t1=game[game['winner']==1]\n",
    "winner_t1=winner_t1[['t1_towerKills', 't1_inhibitorKills', 't1_baronKills',\n",
    "       't1_dragonKills', 't1_riftHeraldKills']]\n",
    "winner_t1.columns=['TowerKills','InhibitorKills','BaronKills','DragonKills','RiftHeraldKills']\n",
    "winner_t2=game[game['winner']==2]\n",
    "winner_t2=winner_t2[['t2_towerKills', 't2_inhibitorKills', 't2_baronKills', 't2_dragonKills',\n",
    "       't2_riftHeraldKills']]\n",
    "winner_t2.columns=['TowerKills','InhibitorKills','BaronKills','DragonKills','RiftHeraldKills']\n",
    "\n",
    "winner=pd.concat([winner_t1,winner_t2])\n",
    "winner['winning']=1\n",
    "winner.head()"
   ]
  },
  {
   "cell_type": "code",
   "execution_count": 6,
   "id": "26cc5305",
   "metadata": {},
   "outputs": [
    {
     "data": {
      "text/html": [
       "<div>\n",
       "<style scoped>\n",
       "    .dataframe tbody tr th:only-of-type {\n",
       "        vertical-align: middle;\n",
       "    }\n",
       "\n",
       "    .dataframe tbody tr th {\n",
       "        vertical-align: top;\n",
       "    }\n",
       "\n",
       "    .dataframe thead th {\n",
       "        text-align: right;\n",
       "    }\n",
       "</style>\n",
       "<table border=\"1\" class=\"dataframe\">\n",
       "  <thead>\n",
       "    <tr style=\"text-align: right;\">\n",
       "      <th></th>\n",
       "      <th>TowerKills</th>\n",
       "      <th>InhibitorKills</th>\n",
       "      <th>BaronKills</th>\n",
       "      <th>DragonKills</th>\n",
       "      <th>RiftHeraldKills</th>\n",
       "      <th>winning</th>\n",
       "    </tr>\n",
       "  </thead>\n",
       "  <tbody>\n",
       "    <tr>\n",
       "      <th>8</th>\n",
       "      <td>0</td>\n",
       "      <td>0</td>\n",
       "      <td>0</td>\n",
       "      <td>0</td>\n",
       "      <td>0</td>\n",
       "      <td>0</td>\n",
       "    </tr>\n",
       "    <tr>\n",
       "      <th>9</th>\n",
       "      <td>10</td>\n",
       "      <td>1</td>\n",
       "      <td>0</td>\n",
       "      <td>2</td>\n",
       "      <td>0</td>\n",
       "      <td>0</td>\n",
       "    </tr>\n",
       "    <tr>\n",
       "      <th>10</th>\n",
       "      <td>0</td>\n",
       "      <td>0</td>\n",
       "      <td>0</td>\n",
       "      <td>1</td>\n",
       "      <td>0</td>\n",
       "      <td>0</td>\n",
       "    </tr>\n",
       "    <tr>\n",
       "      <th>14</th>\n",
       "      <td>8</td>\n",
       "      <td>1</td>\n",
       "      <td>1</td>\n",
       "      <td>2</td>\n",
       "      <td>0</td>\n",
       "      <td>0</td>\n",
       "    </tr>\n",
       "    <tr>\n",
       "      <th>16</th>\n",
       "      <td>3</td>\n",
       "      <td>0</td>\n",
       "      <td>0</td>\n",
       "      <td>1</td>\n",
       "      <td>0</td>\n",
       "      <td>0</td>\n",
       "    </tr>\n",
       "  </tbody>\n",
       "</table>\n",
       "</div>"
      ],
      "text/plain": [
       "    TowerKills  InhibitorKills  BaronKills  DragonKills  RiftHeraldKills  \\\n",
       "8            0               0           0            0                0   \n",
       "9           10               1           0            2                0   \n",
       "10           0               0           0            1                0   \n",
       "14           8               1           1            2                0   \n",
       "16           3               0           0            1                0   \n",
       "\n",
       "    winning  \n",
       "8         0  \n",
       "9         0  \n",
       "10        0  \n",
       "14        0  \n",
       "16        0  "
      ]
     },
     "execution_count": 6,
     "metadata": {},
     "output_type": "execute_result"
    }
   ],
   "source": [
    "loser_t1=game[game['winner']==2]\n",
    "loser_t1=loser_t1[['t1_towerKills', 't1_inhibitorKills', 't1_baronKills',\n",
    "       't1_dragonKills', 't1_riftHeraldKills']]\n",
    "loser_t1.columns=['TowerKills','InhibitorKills','BaronKills','DragonKills','RiftHeraldKills']\n",
    "loser_t2=game[game['winner']==1]\n",
    "loser_t2=loser_t2[['t2_towerKills', 't2_inhibitorKills', 't2_baronKills', 't2_dragonKills',\n",
    "       't2_riftHeraldKills']]\n",
    "loser_t2.columns=['TowerKills','InhibitorKills','BaronKills','DragonKills','RiftHeraldKills']\n",
    "\n",
    "loser=pd.concat([loser_t1,loser_t2])\n",
    "loser['winning']=0\n",
    "loser.head()"
   ]
  },
  {
   "cell_type": "code",
   "execution_count": 7,
   "id": "3981062a",
   "metadata": {},
   "outputs": [
    {
     "data": {
      "text/plain": [
       "Text(0.5, 0.98, 'TowerKill for win and lose')"
      ]
     },
     "execution_count": 7,
     "metadata": {},
     "output_type": "execute_result"
    },
    {
     "data": {
      "image/png": "[encoded data removed]",
      "text/plain": [
       "<Figure size 1080x360 with 2 Axes>"
      ]
     },
     "metadata": {
      "needs_background": "light"
     },
     "output_type": "display_data"
    }
   ],
   "source": [
    "plt.figure(figsize=(15,5))\n",
    "plt.subplot(121)\n",
    "plt.hist(winner.iloc[:,0])\n",
    "plt.xlabel(winner.columns[0])\n",
    "plt.ylabel('Number')\n",
    "plt.title('TowerKill for win')\n",
    "\n",
    "\n",
    "plt.subplot(122)\n",
    "plt.hist(loser.iloc[:,0])\n",
    "plt.xlabel(loser.columns[0])\n",
    "plt.ylabel('Number')\n",
    "plt.title('TowerKill for lose')\n",
    "\n",
    "plt.suptitle(\"TowerKill for win and lose\")"
   ]
  },
  {
   "cell_type": "code",
   "execution_count": 8,
   "id": "8cff959a",
   "metadata": {},
   "outputs": [
    {
     "data": {
      "text/plain": [
       "Text(0.5, 0.98, 'InhibitorKill for win and lose')"
      ]
     },
     "execution_count": 8,
     "metadata": {},
     "output_type": "execute_result"
    },
    {
     "data": {
      "image/png": "[encoded data removed]",
      "text/plain": [
       "<Figure size 1080x360 with 2 Axes>"
      ]
     },
     "metadata": {
      "needs_background": "light"
     },
     "output_type": "display_data"
    }
   ],
   "source": [
    "plt.figure(figsize=(15,5))\n",
    "plt.subplot(121)\n",
    "plt.hist(winner.iloc[:,1])\n",
    "plt.xlabel(winner.columns[1])\n",
    "plt.ylabel('Number')\n",
    "plt.title('InhibitorKill for win')\n",
    "\n",
    "plt.subplot(122)\n",
    "plt.hist(loser.iloc[:,1])\n",
    "plt.xlabel(loser.columns[1])\n",
    "plt.ylabel('Number')\n",
    "plt.title('InhibitorKill for lose')\n",
    "\n",
    "plt.suptitle(\"InhibitorKill for win and lose\")"
   ]
  },
  {
   "cell_type": "code",
   "execution_count": 9,
   "id": "d2565d08",
   "metadata": {},
   "outputs": [
    {
     "data": {
      "text/plain": [
       "Text(0.5, 0.98, 'BaronKill for win and lose')"
      ]
     },
     "execution_count": 9,
     "metadata": {},
     "output_type": "execute_result"
    },
    {
     "data": {
      "image/png": "[encoded data removed]",
      "text/plain": [
       "<Figure size 1080x360 with 2 Axes>"
      ]
     },
     "metadata": {
      "needs_background": "light"
     },
     "output_type": "display_data"
    }
   ],
   "source": [
    "plt.figure(figsize=(15,5))\n",
    "plt.subplot(121)\n",
    "plt.hist(winner.iloc[:,2])\n",
    "plt.xlabel(winner.columns[2])\n",
    "plt.ylabel('Number')\n",
    "plt.title('BaronKill for win')\n",
    "plt.xlim([-0.2,5])\n",
    "\n",
    "plt.subplot(122)\n",
    "plt.hist(loser.iloc[:,2])\n",
    "plt.xlabel(loser.columns[2])\n",
    "plt.ylabel('Number')\n",
    "plt.title('BaronKill for lose')\n",
    "\n",
    "plt.suptitle(\"BaronKill for win and lose\")"
   ]
  },
  {
   "cell_type": "code",
   "execution_count": 10,
   "id": "d5214249",
   "metadata": {},
   "outputs": [
    {
     "data": {
      "text/plain": [
       "Text(0.5, 0.98, 'DragonKill for win and lose')"
      ]
     },
     "execution_count": 10,
     "metadata": {},
     "output_type": "execute_result"
    },
    {
     "data": {
      "image/png": "[encoded data removed]",
      "text/plain": [
       "<Figure size 1080x360 with 2 Axes>"
      ]
     },
     "metadata": {
      "needs_background": "light"
     },
     "output_type": "display_data"
    }
   ],
   "source": [
    "plt.figure(figsize=(15,5))\n",
    "plt.subplot(121)\n",
    "plt.hist(winner.iloc[:,3])\n",
    "plt.xlabel(winner.columns[3])\n",
    "plt.ylabel('Number')\n",
    "plt.title('DragonKill for win')\n",
    "\n",
    "plt.subplot(122)\n",
    "plt.hist(loser.iloc[:,3])\n",
    "plt.xlabel(loser.columns[3])\n",
    "plt.ylabel('Number')\n",
    "plt.title('DragonKill for lose')\n",
    "\n",
    "plt.suptitle(\"DragonKill for win and lose\")"
   ]
  },
  {
   "cell_type": "code",
   "execution_count": 11,
   "id": "143d394b",
   "metadata": {},
   "outputs": [
    {
     "data": {
      "text/plain": [
       "Text(0.5, 0.98, 'RiftHeraldKill for win and lose')"
      ]
     },
     "execution_count": 11,
     "metadata": {},
     "output_type": "execute_result"
    },
    {
     "data": {
      "image/png": "[encoded data removed]",
      "text/plain": [
       "<Figure size 1080x360 with 2 Axes>"
      ]
     },
     "metadata": {
      "needs_background": "light"
     },
     "output_type": "display_data"
    }
   ],
   "source": [
    "plt.figure(figsize=(15,5))\n",
    "plt.subplot(121)\n",
    "plt.hist(winner.iloc[:,4])\n",
    "plt.xlabel(winner.columns[4])\n",
    "plt.ylabel('Number')\n",
    "plt.title('RiftHeraldKill for win')\n",
    "plt.xlim([0,1])\n",
    "\n",
    "plt.subplot(122)\n",
    "plt.hist(loser.iloc[:,4])\n",
    "plt.xlabel(loser.columns[4])\n",
    "plt.ylabel('Number')\n",
    "plt.title('RiftHeraldKill for lose')\n",
    "plt.xlim([0,1])\n",
    "\n",
    "plt.suptitle(\"RiftHeraldKill for win and lose\")"
   ]
  },
  {
   "cell_type": "code",
   "execution_count": null,
   "id": "4326b5ac",
   "metadata": {},
   "outputs": [],
   "source": []
  },
  {
   "cell_type": "code",
   "execution_count": null,
   "id": "88883100",
   "metadata": {},
   "outputs": [],
   "source": []
  }
 ],
 "metadata": {
  "kernelspec": {
   "display_name": "Python 3 (ipykernel)",
   "language": "python",
   "name": "python3"
  },
  "language_info": {
   "codemirror_mode": {
    "name": "ipython",
    "version": 3
   },
   "file_extension": ".py",
   "mimetype": "text/x-python",
   "name": "python",
   "nbconvert_exporter": "python",
   "pygments_lexer": "ipython3",
   "version": "3.9.7"
  }
 },
 "nbformat": 4,
 "nbformat_minor": 5
}
